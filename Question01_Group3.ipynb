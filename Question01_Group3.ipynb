{
 "cells": [
  {
   "cell_type": "markdown",
   "id": "28462ccf-4d1a-465b-b87c-8c491545dac8",
   "metadata": {},
   "source": [
    "## Question 01: Interpreting $\\beta$ estimates\n",
    "\n",
    "#### 1. Load the wooldridge package"
   ]
  },
  {
   "cell_type": "code",
   "execution_count": 3,
   "id": "bf7d8283",
   "metadata": {},
   "outputs": [
    {
     "name": "stdout",
     "output_type": "stream",
     "text": [
      "  J.M. Wooldridge (2019) Introductory Econometrics: A Modern Approach,\n",
      "  Cengage Learning, 6th edition.\n",
      "\n",
      "  401k       401ksubs    admnrev       affairs     airfare\n",
      "  alcohol    apple       approval      athlet1     athlet2\n",
      "  attend     audit       barium        beauty      benefits\n",
      "  beveridge  big9salary  bwght         bwght2      campus\n",
      "  card       catholic    cement        census2000  ceosal1\n",
      "  ceosal2    charity     consump       corn        countymurders\n",
      "  cps78_85   cps91       crime1        crime2      crime3\n",
      "  crime4     discrim     driving       earns       econmath\n",
      "  elem94_95  engin       expendshares  ezanders    ezunem\n",
      "  fair       fertil1     fertil2       fertil3     fish\n",
      "  fringe     gpa1        gpa2          gpa3        happiness\n",
      "  hprice1    hprice2     hprice3       hseinv      htv\n",
      "  infmrt     injury      intdef        intqrt      inven\n",
      "  jtrain     jtrain2     jtrain3       kielmc      lawsch85\n",
      "  loanapp    lowbrth     mathpnl       meap00_01   meap01\n",
      "  meap93     meapsingle  minwage       mlb1        mroz\n",
      "  murder     nbasal      nyse          okun        openness\n",
      "  pension    phillips    pntsprd       prison      prminwge\n",
      "  rdchem     rdtelec     recid         rental      return\n",
      "  saving     sleep75     slp75_81      smoke       traffic1\n",
      "  traffic2   twoyear     volat         vote1       vote2\n",
      "  voucher    wage1       wage2         wagepan     wageprc\n",
      "  wine\n"
     ]
    }
   ],
   "source": [
    "import wooldridge\n",
    "wooldridge.data()"
   ]
  },
  {
   "cell_type": "markdown",
   "id": "7bf6e128-7a8d-4186-9b98-2c930e14a37f",
   "metadata": {},
   "source": [
    "#### 2. Load and review the data description"
   ]
  },
  {
   "cell_type": "code",
   "execution_count": 6,
   "id": "acf35bc3",
   "metadata": {},
   "outputs": [
    {
     "name": "stdout",
     "output_type": "stream",
     "text": [
      "name of dataset: wage1\n",
      "no of variables: 24\n",
      "no of observations: 526\n",
      "\n",
      "+----------+---------------------------------+\n",
      "| variable | label                           |\n",
      "+----------+---------------------------------+\n",
      "| wage     | average hourly earnings         |\n",
      "| educ     | years of education              |\n",
      "| exper    | years potential experience      |\n",
      "| tenure   | years with current employer     |\n",
      "| nonwhite | =1 if nonwhite                  |\n",
      "| female   | =1 if female                    |\n",
      "| married  | =1 if married                   |\n",
      "| numdep   | number of dependents            |\n",
      "| smsa     | =1 if live in SMSA              |\n",
      "| northcen | =1 if live in north central U.S |\n",
      "| south    | =1 if live in southern region   |\n",
      "| west     | =1 if live in western region    |\n",
      "| construc | =1 if work in construc. indus.  |\n",
      "| ndurman  | =1 if in nondur. manuf. indus.  |\n",
      "| trcommpu | =1 if in trans, commun, pub ut  |\n",
      "| trade    | =1 if in wholesale or retail    |\n",
      "| services | =1 if in services indus.        |\n",
      "| profserv | =1 if in prof. serv. indus.     |\n",
      "| profocc  | =1 if in profess. occupation    |\n",
      "| clerocc  | =1 if in clerical occupation    |\n",
      "| servocc  | =1 if in service occupation     |\n",
      "| lwage    | log(wage)                       |\n",
      "| expersq  | exper^2                         |\n",
      "| tenursq  | tenure^2                        |\n",
      "+----------+---------------------------------+\n",
      "\n",
      "These are data from the 1976 Current Population Survey, collected by\n",
      "Henry Farber when he and I were colleagues at MIT in 1988.\n"
     ]
    }
   ],
   "source": [
    "wooldridge.data('wage1', description=True)"
   ]
  },
  {
   "cell_type": "markdown",
   "id": "2eb3f9de-1bb8-45d8-a00e-b735382bd160",
   "metadata": {},
   "source": [
    "#### 3. Load the wage1 dataset"
   ]
  },
  {
   "cell_type": "code",
   "execution_count": 9,
   "id": "0b83a9d4",
   "metadata": {},
   "outputs": [
    {
     "data": {
      "text/plain": [
       "wage        float64\n",
       "educ          int64\n",
       "exper         int64\n",
       "tenure        int64\n",
       "nonwhite      int64\n",
       "female        int64\n",
       "married       int64\n",
       "numdep        int64\n",
       "smsa          int64\n",
       "northcen      int64\n",
       "south         int64\n",
       "west          int64\n",
       "construc      int64\n",
       "ndurman       int64\n",
       "trcommpu      int64\n",
       "trade         int64\n",
       "services      int64\n",
       "profserv      int64\n",
       "profocc       int64\n",
       "clerocc       int64\n",
       "servocc       int64\n",
       "lwage       float64\n",
       "expersq       int64\n",
       "tenursq       int64\n",
       "dtype: object"
      ]
     },
     "execution_count": 9,
     "metadata": {},
     "output_type": "execute_result"
    }
   ],
   "source": [
    "dta = wooldridge.data('wage1')\n",
    "dta.dtypes"
   ]
  },
  {
   "cell_type": "markdown",
   "id": "c4cf7f4f-179a-4660-8214-21fd6faf2f58",
   "metadata": {},
   "source": [
    "#### 4. Produce and review a summary statistics of the data"
   ]
  },
  {
   "cell_type": "code",
   "execution_count": 12,
   "id": "1cdad758",
   "metadata": {},
   "outputs": [
    {
     "data": {
      "text/html": [
       "<div>\n",
       "<style scoped>\n",
       "    .dataframe tbody tr th:only-of-type {\n",
       "        vertical-align: middle;\n",
       "    }\n",
       "\n",
       "    .dataframe tbody tr th {\n",
       "        vertical-align: top;\n",
       "    }\n",
       "\n",
       "    .dataframe thead th {\n",
       "        text-align: right;\n",
       "    }\n",
       "</style>\n",
       "<table border=\"1\" class=\"dataframe\">\n",
       "  <thead>\n",
       "    <tr style=\"text-align: right;\">\n",
       "      <th></th>\n",
       "      <th>count</th>\n",
       "      <th>mean</th>\n",
       "      <th>std</th>\n",
       "      <th>min</th>\n",
       "      <th>25%</th>\n",
       "      <th>50%</th>\n",
       "      <th>75%</th>\n",
       "      <th>max</th>\n",
       "    </tr>\n",
       "  </thead>\n",
       "  <tbody>\n",
       "    <tr>\n",
       "      <th>wage</th>\n",
       "      <td>526.0</td>\n",
       "      <td>5.896103</td>\n",
       "      <td>3.693086</td>\n",
       "      <td>0.530000</td>\n",
       "      <td>3.330000</td>\n",
       "      <td>4.650000</td>\n",
       "      <td>6.880000</td>\n",
       "      <td>24.980000</td>\n",
       "    </tr>\n",
       "    <tr>\n",
       "      <th>educ</th>\n",
       "      <td>526.0</td>\n",
       "      <td>12.562738</td>\n",
       "      <td>2.769022</td>\n",
       "      <td>0.000000</td>\n",
       "      <td>12.000000</td>\n",
       "      <td>12.000000</td>\n",
       "      <td>14.000000</td>\n",
       "      <td>18.000000</td>\n",
       "    </tr>\n",
       "    <tr>\n",
       "      <th>exper</th>\n",
       "      <td>526.0</td>\n",
       "      <td>17.017110</td>\n",
       "      <td>13.572160</td>\n",
       "      <td>1.000000</td>\n",
       "      <td>5.000000</td>\n",
       "      <td>13.500000</td>\n",
       "      <td>26.000000</td>\n",
       "      <td>51.000000</td>\n",
       "    </tr>\n",
       "    <tr>\n",
       "      <th>tenure</th>\n",
       "      <td>526.0</td>\n",
       "      <td>5.104563</td>\n",
       "      <td>7.224462</td>\n",
       "      <td>0.000000</td>\n",
       "      <td>0.000000</td>\n",
       "      <td>2.000000</td>\n",
       "      <td>7.000000</td>\n",
       "      <td>44.000000</td>\n",
       "    </tr>\n",
       "    <tr>\n",
       "      <th>nonwhite</th>\n",
       "      <td>526.0</td>\n",
       "      <td>0.102662</td>\n",
       "      <td>0.303805</td>\n",
       "      <td>0.000000</td>\n",
       "      <td>0.000000</td>\n",
       "      <td>0.000000</td>\n",
       "      <td>0.000000</td>\n",
       "      <td>1.000000</td>\n",
       "    </tr>\n",
       "    <tr>\n",
       "      <th>female</th>\n",
       "      <td>526.0</td>\n",
       "      <td>0.479087</td>\n",
       "      <td>0.500038</td>\n",
       "      <td>0.000000</td>\n",
       "      <td>0.000000</td>\n",
       "      <td>0.000000</td>\n",
       "      <td>1.000000</td>\n",
       "      <td>1.000000</td>\n",
       "    </tr>\n",
       "    <tr>\n",
       "      <th>married</th>\n",
       "      <td>526.0</td>\n",
       "      <td>0.608365</td>\n",
       "      <td>0.488580</td>\n",
       "      <td>0.000000</td>\n",
       "      <td>0.000000</td>\n",
       "      <td>1.000000</td>\n",
       "      <td>1.000000</td>\n",
       "      <td>1.000000</td>\n",
       "    </tr>\n",
       "    <tr>\n",
       "      <th>numdep</th>\n",
       "      <td>526.0</td>\n",
       "      <td>1.043726</td>\n",
       "      <td>1.261891</td>\n",
       "      <td>0.000000</td>\n",
       "      <td>0.000000</td>\n",
       "      <td>1.000000</td>\n",
       "      <td>2.000000</td>\n",
       "      <td>6.000000</td>\n",
       "    </tr>\n",
       "    <tr>\n",
       "      <th>smsa</th>\n",
       "      <td>526.0</td>\n",
       "      <td>0.722433</td>\n",
       "      <td>0.448225</td>\n",
       "      <td>0.000000</td>\n",
       "      <td>0.000000</td>\n",
       "      <td>1.000000</td>\n",
       "      <td>1.000000</td>\n",
       "      <td>1.000000</td>\n",
       "    </tr>\n",
       "    <tr>\n",
       "      <th>northcen</th>\n",
       "      <td>526.0</td>\n",
       "      <td>0.250951</td>\n",
       "      <td>0.433973</td>\n",
       "      <td>0.000000</td>\n",
       "      <td>0.000000</td>\n",
       "      <td>0.000000</td>\n",
       "      <td>0.750000</td>\n",
       "      <td>1.000000</td>\n",
       "    </tr>\n",
       "    <tr>\n",
       "      <th>south</th>\n",
       "      <td>526.0</td>\n",
       "      <td>0.355513</td>\n",
       "      <td>0.479124</td>\n",
       "      <td>0.000000</td>\n",
       "      <td>0.000000</td>\n",
       "      <td>0.000000</td>\n",
       "      <td>1.000000</td>\n",
       "      <td>1.000000</td>\n",
       "    </tr>\n",
       "    <tr>\n",
       "      <th>west</th>\n",
       "      <td>526.0</td>\n",
       "      <td>0.169202</td>\n",
       "      <td>0.375287</td>\n",
       "      <td>0.000000</td>\n",
       "      <td>0.000000</td>\n",
       "      <td>0.000000</td>\n",
       "      <td>0.000000</td>\n",
       "      <td>1.000000</td>\n",
       "    </tr>\n",
       "    <tr>\n",
       "      <th>construc</th>\n",
       "      <td>526.0</td>\n",
       "      <td>0.045627</td>\n",
       "      <td>0.208874</td>\n",
       "      <td>0.000000</td>\n",
       "      <td>0.000000</td>\n",
       "      <td>0.000000</td>\n",
       "      <td>0.000000</td>\n",
       "      <td>1.000000</td>\n",
       "    </tr>\n",
       "    <tr>\n",
       "      <th>ndurman</th>\n",
       "      <td>526.0</td>\n",
       "      <td>0.114068</td>\n",
       "      <td>0.318197</td>\n",
       "      <td>0.000000</td>\n",
       "      <td>0.000000</td>\n",
       "      <td>0.000000</td>\n",
       "      <td>0.000000</td>\n",
       "      <td>1.000000</td>\n",
       "    </tr>\n",
       "    <tr>\n",
       "      <th>trcommpu</th>\n",
       "      <td>526.0</td>\n",
       "      <td>0.043726</td>\n",
       "      <td>0.204680</td>\n",
       "      <td>0.000000</td>\n",
       "      <td>0.000000</td>\n",
       "      <td>0.000000</td>\n",
       "      <td>0.000000</td>\n",
       "      <td>1.000000</td>\n",
       "    </tr>\n",
       "    <tr>\n",
       "      <th>trade</th>\n",
       "      <td>526.0</td>\n",
       "      <td>0.287072</td>\n",
       "      <td>0.452826</td>\n",
       "      <td>0.000000</td>\n",
       "      <td>0.000000</td>\n",
       "      <td>0.000000</td>\n",
       "      <td>1.000000</td>\n",
       "      <td>1.000000</td>\n",
       "    </tr>\n",
       "    <tr>\n",
       "      <th>services</th>\n",
       "      <td>526.0</td>\n",
       "      <td>0.100760</td>\n",
       "      <td>0.301298</td>\n",
       "      <td>0.000000</td>\n",
       "      <td>0.000000</td>\n",
       "      <td>0.000000</td>\n",
       "      <td>0.000000</td>\n",
       "      <td>1.000000</td>\n",
       "    </tr>\n",
       "    <tr>\n",
       "      <th>profserv</th>\n",
       "      <td>526.0</td>\n",
       "      <td>0.258555</td>\n",
       "      <td>0.438257</td>\n",
       "      <td>0.000000</td>\n",
       "      <td>0.000000</td>\n",
       "      <td>0.000000</td>\n",
       "      <td>1.000000</td>\n",
       "      <td>1.000000</td>\n",
       "    </tr>\n",
       "    <tr>\n",
       "      <th>profocc</th>\n",
       "      <td>526.0</td>\n",
       "      <td>0.366920</td>\n",
       "      <td>0.482423</td>\n",
       "      <td>0.000000</td>\n",
       "      <td>0.000000</td>\n",
       "      <td>0.000000</td>\n",
       "      <td>1.000000</td>\n",
       "      <td>1.000000</td>\n",
       "    </tr>\n",
       "    <tr>\n",
       "      <th>clerocc</th>\n",
       "      <td>526.0</td>\n",
       "      <td>0.167300</td>\n",
       "      <td>0.373599</td>\n",
       "      <td>0.000000</td>\n",
       "      <td>0.000000</td>\n",
       "      <td>0.000000</td>\n",
       "      <td>0.000000</td>\n",
       "      <td>1.000000</td>\n",
       "    </tr>\n",
       "    <tr>\n",
       "      <th>servocc</th>\n",
       "      <td>526.0</td>\n",
       "      <td>0.140684</td>\n",
       "      <td>0.348027</td>\n",
       "      <td>0.000000</td>\n",
       "      <td>0.000000</td>\n",
       "      <td>0.000000</td>\n",
       "      <td>0.000000</td>\n",
       "      <td>1.000000</td>\n",
       "    </tr>\n",
       "    <tr>\n",
       "      <th>lwage</th>\n",
       "      <td>526.0</td>\n",
       "      <td>1.623268</td>\n",
       "      <td>0.531538</td>\n",
       "      <td>-0.634878</td>\n",
       "      <td>1.202972</td>\n",
       "      <td>1.536867</td>\n",
       "      <td>1.928619</td>\n",
       "      <td>3.218076</td>\n",
       "    </tr>\n",
       "    <tr>\n",
       "      <th>expersq</th>\n",
       "      <td>526.0</td>\n",
       "      <td>473.435361</td>\n",
       "      <td>616.044772</td>\n",
       "      <td>1.000000</td>\n",
       "      <td>25.000000</td>\n",
       "      <td>182.500000</td>\n",
       "      <td>676.000000</td>\n",
       "      <td>2601.000000</td>\n",
       "    </tr>\n",
       "    <tr>\n",
       "      <th>tenursq</th>\n",
       "      <td>526.0</td>\n",
       "      <td>78.150190</td>\n",
       "      <td>199.434664</td>\n",
       "      <td>0.000000</td>\n",
       "      <td>0.000000</td>\n",
       "      <td>4.000000</td>\n",
       "      <td>49.000000</td>\n",
       "      <td>1936.000000</td>\n",
       "    </tr>\n",
       "  </tbody>\n",
       "</table>\n",
       "</div>"
      ],
      "text/plain": [
       "          count        mean         std       min        25%         50%  \\\n",
       "wage      526.0    5.896103    3.693086  0.530000   3.330000    4.650000   \n",
       "educ      526.0   12.562738    2.769022  0.000000  12.000000   12.000000   \n",
       "exper     526.0   17.017110   13.572160  1.000000   5.000000   13.500000   \n",
       "tenure    526.0    5.104563    7.224462  0.000000   0.000000    2.000000   \n",
       "nonwhite  526.0    0.102662    0.303805  0.000000   0.000000    0.000000   \n",
       "female    526.0    0.479087    0.500038  0.000000   0.000000    0.000000   \n",
       "married   526.0    0.608365    0.488580  0.000000   0.000000    1.000000   \n",
       "numdep    526.0    1.043726    1.261891  0.000000   0.000000    1.000000   \n",
       "smsa      526.0    0.722433    0.448225  0.000000   0.000000    1.000000   \n",
       "northcen  526.0    0.250951    0.433973  0.000000   0.000000    0.000000   \n",
       "south     526.0    0.355513    0.479124  0.000000   0.000000    0.000000   \n",
       "west      526.0    0.169202    0.375287  0.000000   0.000000    0.000000   \n",
       "construc  526.0    0.045627    0.208874  0.000000   0.000000    0.000000   \n",
       "ndurman   526.0    0.114068    0.318197  0.000000   0.000000    0.000000   \n",
       "trcommpu  526.0    0.043726    0.204680  0.000000   0.000000    0.000000   \n",
       "trade     526.0    0.287072    0.452826  0.000000   0.000000    0.000000   \n",
       "services  526.0    0.100760    0.301298  0.000000   0.000000    0.000000   \n",
       "profserv  526.0    0.258555    0.438257  0.000000   0.000000    0.000000   \n",
       "profocc   526.0    0.366920    0.482423  0.000000   0.000000    0.000000   \n",
       "clerocc   526.0    0.167300    0.373599  0.000000   0.000000    0.000000   \n",
       "servocc   526.0    0.140684    0.348027  0.000000   0.000000    0.000000   \n",
       "lwage     526.0    1.623268    0.531538 -0.634878   1.202972    1.536867   \n",
       "expersq   526.0  473.435361  616.044772  1.000000  25.000000  182.500000   \n",
       "tenursq   526.0   78.150190  199.434664  0.000000   0.000000    4.000000   \n",
       "\n",
       "                 75%          max  \n",
       "wage        6.880000    24.980000  \n",
       "educ       14.000000    18.000000  \n",
       "exper      26.000000    51.000000  \n",
       "tenure      7.000000    44.000000  \n",
       "nonwhite    0.000000     1.000000  \n",
       "female      1.000000     1.000000  \n",
       "married     1.000000     1.000000  \n",
       "numdep      2.000000     6.000000  \n",
       "smsa        1.000000     1.000000  \n",
       "northcen    0.750000     1.000000  \n",
       "south       1.000000     1.000000  \n",
       "west        0.000000     1.000000  \n",
       "construc    0.000000     1.000000  \n",
       "ndurman     0.000000     1.000000  \n",
       "trcommpu    0.000000     1.000000  \n",
       "trade       1.000000     1.000000  \n",
       "services    0.000000     1.000000  \n",
       "profserv    1.000000     1.000000  \n",
       "profocc     1.000000     1.000000  \n",
       "clerocc     0.000000     1.000000  \n",
       "servocc     0.000000     1.000000  \n",
       "lwage       1.928619     3.218076  \n",
       "expersq   676.000000  2601.000000  \n",
       "tenursq    49.000000  1936.000000  "
      ]
     },
     "execution_count": 12,
     "metadata": {},
     "output_type": "execute_result"
    }
   ],
   "source": [
    "dta.describe().T"
   ]
  },
  {
   "cell_type": "markdown",
   "id": "0419fedf-3a28-439c-9816-c6880590fced",
   "metadata": {},
   "source": [
    "#### 5. Run a regression of natural logarithm of wages (lwage) against 'exper', 'educ', 'tenure'"
   ]
  },
  {
   "cell_type": "code",
   "execution_count": 43,
   "id": "af20eb35",
   "metadata": {},
   "outputs": [
    {
     "name": "stdout",
     "output_type": "stream",
     "text": [
      "                            OLS Regression Results                            \n",
      "==============================================================================\n",
      "Dep. Variable:                  lwage   R-squared:                       0.316\n",
      "Model:                            OLS   Adj. R-squared:                  0.312\n",
      "Method:                 Least Squares   F-statistic:                     80.39\n",
      "Date:                Tue, 05 Nov 2024   Prob (F-statistic):           9.13e-43\n",
      "Time:                        10:15:06   Log-Likelihood:                -313.55\n",
      "No. Observations:                 526   AIC:                             635.1\n",
      "Df Residuals:                     522   BIC:                             652.2\n",
      "Df Model:                           3                                         \n",
      "Covariance Type:            nonrobust                                         \n",
      "==============================================================================\n",
      "                 coef    std err          t      P>|t|      [0.025      0.975]\n",
      "------------------------------------------------------------------------------\n",
      "const          0.2844      0.104      2.729      0.007       0.080       0.489\n",
      "exper          0.0041      0.002      2.391      0.017       0.001       0.008\n",
      "educ           0.0920      0.007     12.555      0.000       0.078       0.106\n",
      "tenure         0.0221      0.003      7.133      0.000       0.016       0.028\n",
      "==============================================================================\n",
      "Omnibus:                       11.534   Durbin-Watson:                   1.769\n",
      "Prob(Omnibus):                  0.003   Jarque-Bera (JB):               20.941\n",
      "Skew:                           0.021   Prob(JB):                     2.84e-05\n",
      "Kurtosis:                       3.977   Cond. No.                         135.\n",
      "==============================================================================\n",
      "\n",
      "Notes:\n",
      "[1] Standard Errors assume that the covariance matrix of the errors is correctly specified.\n"
     ]
    }
   ],
   "source": [
    "import statsmodels.api as sm\n",
    "import pandas as pd\n",
    "\n",
    "X = dta[['exper', 'educ', 'tenure']]\n",
    "y = dta['lwage']\n",
    "\n",
    "X = sm.add_constant(X)\n",
    "model = sm.OLS(y, X).fit()\n",
    "print(model.summary())"
   ]
  },
  {
   "cell_type": "markdown",
   "id": "2b31c852",
   "metadata": {},
   "source": [
    "#### 6. A\n",
    "Regression coefficient for 'educ' is $0.092$. Thus additional year of 'educ' will increase logarithm of wage by 0.092 on average; which means it will increase wage, or hourly earnings, 9.2% on average. Answer is A. "
   ]
  },
  {
   "cell_type": "markdown",
   "id": "d620bab0-b515-45c0-8bab-fc6a44a8b3b8",
   "metadata": {},
   "source": [
    "#### 7. A, B\n",
    "p value for 'exper' is 0.017. "
   ]
  },
  {
   "cell_type": "markdown",
   "id": "80e59f1b",
   "metadata": {},
   "source": [
    "#### 8. Estimate the log wage and wage based on the average values for exper, educ, and tenure using the predict function."
   ]
  },
  {
   "cell_type": "code",
   "execution_count": 20,
   "id": "2796130f",
   "metadata": {},
   "outputs": [
    {
     "name": "stdout",
     "output_type": "stream",
     "text": [
      "Estimation of the log wage:  1.623268444558513\n",
      "Estimation of the wage:  5.069633081941634\n"
     ]
    }
   ],
   "source": [
    "import numpy as np\n",
    "\n",
    "mean_values0 = X.mean()\n",
    "lwageHat0 = model.predict(mean_values0).iloc[0]\n",
    "print(\"Estimation of the log wage: \", lwageHat0)\n",
    "print(\"Estimation of the wage: \", np.exp(lwageHat0))"
   ]
  },
  {
   "cell_type": "markdown",
   "id": "21a0fb73",
   "metadata": {},
   "source": [
    "#### 9. Reestimate the wage based on the average values again, but add one more year of education."
   ]
  },
  {
   "cell_type": "code",
   "execution_count": 23,
   "id": "af0a02a3",
   "metadata": {},
   "outputs": [
    {
     "name": "stdout",
     "output_type": "stream",
     "text": [
      "Estimation of the log wage:  1.7152974329923563\n",
      "Estimation of the wage:  5.558328496800482\n"
     ]
    }
   ],
   "source": [
    "lwageHat1 = model.predict(mean_values0 + [0, 0, 1, 0]).iloc[0]\n",
    "print(\"Estimation of the log wage: \", lwageHat1)\n",
    "print(\"Estimation of the wage: \", np.exp(lwageHat1))\n",
    "\n",
    "dta['educ'] = dta['educ'] + 1"
   ]
  },
  {
   "cell_type": "markdown",
   "id": "95c168f2",
   "metadata": {},
   "source": [
    "#### 10. Compute the percentage increase in wages"
   ]
  },
  {
   "cell_type": "code",
   "execution_count": 26,
   "id": "9bfd5bd3",
   "metadata": {},
   "outputs": [
    {
     "data": {
      "text/plain": [
       "9.639660444058816"
      ]
     },
     "execution_count": 26,
     "metadata": {},
     "output_type": "execute_result"
    }
   ],
   "source": [
    "((np.exp(lwageHat1) - np.exp(lwageHat0)) / np.exp(lwageHat0)) * 100"
   ]
  },
  {
   "cell_type": "markdown",
   "id": "59ce1dc3-ab70-4fc9-9b97-0b08a06be8c1",
   "metadata": {},
   "source": [
    "#### 11. Leverage the regression results to compute the approximate increase in wages due to one additional year of education."
   ]
  },
  {
   "cell_type": "code",
   "execution_count": 29,
   "id": "3cf0e597-df72-469d-a106-d373c7757bcf",
   "metadata": {},
   "outputs": [
    {
     "data": {
      "text/plain": [
       "9.202898843384322"
      ]
     },
     "execution_count": 29,
     "metadata": {},
     "output_type": "execute_result"
    }
   ],
   "source": [
    "model.params['educ'] * 100"
   ]
  },
  {
   "cell_type": "code",
   "execution_count": 67,
   "id": "b79e077e-b5f3-444e-8f2b-e462d24754d5",
   "metadata": {},
   "outputs": [
    {
     "data": {
      "text/plain": [
       "0.4886954148588476"
      ]
     },
     "execution_count": 67,
     "metadata": {},
     "output_type": "execute_result"
    }
   ],
   "source": [
    "# Approximate increase in wages due to one additional year of education\n",
    "np.exp(lwageHat1) - np.exp(lwageHat0)"
   ]
  },
  {
   "cell_type": "markdown",
   "id": "099d2a8d-208b-4d02-8fec-0242e99fd090",
   "metadata": {},
   "source": [
    "#### 12. E"
   ]
  },
  {
   "cell_type": "code",
   "execution_count": 70,
   "id": "1c7840a8",
   "metadata": {},
   "outputs": [
    {
     "data": {
      "text/html": [
       "<table class=\"simpletable\">\n",
       "<caption>OLS Regression Results</caption>\n",
       "<tr>\n",
       "  <th>Dep. Variable:</th>          <td>lwage</td>      <th>  R-squared:         </th> <td>   0.316</td>\n",
       "</tr>\n",
       "<tr>\n",
       "  <th>Model:</th>                   <td>OLS</td>       <th>  Adj. R-squared:    </th> <td>   0.312</td>\n",
       "</tr>\n",
       "<tr>\n",
       "  <th>Method:</th>             <td>Least Squares</td>  <th>  F-statistic:       </th> <td>   80.39</td>\n",
       "</tr>\n",
       "<tr>\n",
       "  <th>Date:</th>             <td>Tue, 05 Nov 2024</td> <th>  Prob (F-statistic):</th> <td>9.13e-43</td>\n",
       "</tr>\n",
       "<tr>\n",
       "  <th>Time:</th>                 <td>10:22:46</td>     <th>  Log-Likelihood:    </th> <td> -313.55</td>\n",
       "</tr>\n",
       "<tr>\n",
       "  <th>No. Observations:</th>      <td>   526</td>      <th>  AIC:               </th> <td>   635.1</td>\n",
       "</tr>\n",
       "<tr>\n",
       "  <th>Df Residuals:</th>          <td>   522</td>      <th>  BIC:               </th> <td>   652.2</td>\n",
       "</tr>\n",
       "<tr>\n",
       "  <th>Df Model:</th>              <td>     3</td>      <th>                     </th>     <td> </td>   \n",
       "</tr>\n",
       "<tr>\n",
       "  <th>Covariance Type:</th>      <td>nonrobust</td>    <th>                     </th>     <td> </td>   \n",
       "</tr>\n",
       "</table>\n",
       "<table class=\"simpletable\">\n",
       "<tr>\n",
       "     <td></td>       <th>coef</th>     <th>std err</th>      <th>t</th>      <th>P>|t|</th>  <th>[0.025</th>    <th>0.975]</th>  \n",
       "</tr>\n",
       "<tr>\n",
       "  <th>const</th>  <td>    0.2844</td> <td>    0.104</td> <td>    2.729</td> <td> 0.007</td> <td>    0.080</td> <td>    0.489</td>\n",
       "</tr>\n",
       "<tr>\n",
       "  <th>exper</th>  <td>    0.0041</td> <td>    0.002</td> <td>    2.391</td> <td> 0.017</td> <td>    0.001</td> <td>    0.008</td>\n",
       "</tr>\n",
       "<tr>\n",
       "  <th>educ</th>   <td>    0.0920</td> <td>    0.007</td> <td>   12.555</td> <td> 0.000</td> <td>    0.078</td> <td>    0.106</td>\n",
       "</tr>\n",
       "<tr>\n",
       "  <th>tenure</th> <td>    0.0221</td> <td>    0.003</td> <td>    7.133</td> <td> 0.000</td> <td>    0.016</td> <td>    0.028</td>\n",
       "</tr>\n",
       "</table>\n",
       "<table class=\"simpletable\">\n",
       "<tr>\n",
       "  <th>Omnibus:</th>       <td>11.534</td> <th>  Durbin-Watson:     </th> <td>   1.769</td>\n",
       "</tr>\n",
       "<tr>\n",
       "  <th>Prob(Omnibus):</th> <td> 0.003</td> <th>  Jarque-Bera (JB):  </th> <td>  20.941</td>\n",
       "</tr>\n",
       "<tr>\n",
       "  <th>Skew:</th>          <td> 0.021</td> <th>  Prob(JB):          </th> <td>2.84e-05</td>\n",
       "</tr>\n",
       "<tr>\n",
       "  <th>Kurtosis:</th>      <td> 3.977</td> <th>  Cond. No.          </th> <td>    135.</td>\n",
       "</tr>\n",
       "</table><br/><br/>Notes:<br/>[1] Standard Errors assume that the covariance matrix of the errors is correctly specified."
      ],
      "text/latex": [
       "\\begin{center}\n",
       "\\begin{tabular}{lclc}\n",
       "\\toprule\n",
       "\\textbf{Dep. Variable:}    &      lwage       & \\textbf{  R-squared:         } &     0.316   \\\\\n",
       "\\textbf{Model:}            &       OLS        & \\textbf{  Adj. R-squared:    } &     0.312   \\\\\n",
       "\\textbf{Method:}           &  Least Squares   & \\textbf{  F-statistic:       } &     80.39   \\\\\n",
       "\\textbf{Date:}             & Tue, 05 Nov 2024 & \\textbf{  Prob (F-statistic):} &  9.13e-43   \\\\\n",
       "\\textbf{Time:}             &     10:22:46     & \\textbf{  Log-Likelihood:    } &   -313.55   \\\\\n",
       "\\textbf{No. Observations:} &         526      & \\textbf{  AIC:               } &     635.1   \\\\\n",
       "\\textbf{Df Residuals:}     &         522      & \\textbf{  BIC:               } &     652.2   \\\\\n",
       "\\textbf{Df Model:}         &           3      & \\textbf{                     } &             \\\\\n",
       "\\textbf{Covariance Type:}  &    nonrobust     & \\textbf{                     } &             \\\\\n",
       "\\bottomrule\n",
       "\\end{tabular}\n",
       "\\begin{tabular}{lcccccc}\n",
       "                & \\textbf{coef} & \\textbf{std err} & \\textbf{t} & \\textbf{P$> |$t$|$} & \\textbf{[0.025} & \\textbf{0.975]}  \\\\\n",
       "\\midrule\n",
       "\\textbf{const}  &       0.2844  &        0.104     &     2.729  &         0.007        &        0.080    &        0.489     \\\\\n",
       "\\textbf{exper}  &       0.0041  &        0.002     &     2.391  &         0.017        &        0.001    &        0.008     \\\\\n",
       "\\textbf{educ}   &       0.0920  &        0.007     &    12.555  &         0.000        &        0.078    &        0.106     \\\\\n",
       "\\textbf{tenure} &       0.0221  &        0.003     &     7.133  &         0.000        &        0.016    &        0.028     \\\\\n",
       "\\bottomrule\n",
       "\\end{tabular}\n",
       "\\begin{tabular}{lclc}\n",
       "\\textbf{Omnibus:}       & 11.534 & \\textbf{  Durbin-Watson:     } &    1.769  \\\\\n",
       "\\textbf{Prob(Omnibus):} &  0.003 & \\textbf{  Jarque-Bera (JB):  } &   20.941  \\\\\n",
       "\\textbf{Skew:}          &  0.021 & \\textbf{  Prob(JB):          } & 2.84e-05  \\\\\n",
       "\\textbf{Kurtosis:}      &  3.977 & \\textbf{  Cond. No.          } &     135.  \\\\\n",
       "\\bottomrule\n",
       "\\end{tabular}\n",
       "%\\caption{OLS Regression Results}\n",
       "\\end{center}\n",
       "\n",
       "Notes: \\newline\n",
       " [1] Standard Errors assume that the covariance matrix of the errors is correctly specified."
      ],
      "text/plain": [
       "<class 'statsmodels.iolib.summary.Summary'>\n",
       "\"\"\"\n",
       "                            OLS Regression Results                            \n",
       "==============================================================================\n",
       "Dep. Variable:                  lwage   R-squared:                       0.316\n",
       "Model:                            OLS   Adj. R-squared:                  0.312\n",
       "Method:                 Least Squares   F-statistic:                     80.39\n",
       "Date:                Tue, 05 Nov 2024   Prob (F-statistic):           9.13e-43\n",
       "Time:                        10:22:46   Log-Likelihood:                -313.55\n",
       "No. Observations:                 526   AIC:                             635.1\n",
       "Df Residuals:                     522   BIC:                             652.2\n",
       "Df Model:                           3                                         \n",
       "Covariance Type:            nonrobust                                         \n",
       "==============================================================================\n",
       "                 coef    std err          t      P>|t|      [0.025      0.975]\n",
       "------------------------------------------------------------------------------\n",
       "const          0.2844      0.104      2.729      0.007       0.080       0.489\n",
       "exper          0.0041      0.002      2.391      0.017       0.001       0.008\n",
       "educ           0.0920      0.007     12.555      0.000       0.078       0.106\n",
       "tenure         0.0221      0.003      7.133      0.000       0.016       0.028\n",
       "==============================================================================\n",
       "Omnibus:                       11.534   Durbin-Watson:                   1.769\n",
       "Prob(Omnibus):                  0.003   Jarque-Bera (JB):               20.941\n",
       "Skew:                           0.021   Prob(JB):                     2.84e-05\n",
       "Kurtosis:                       3.977   Cond. No.                         135.\n",
       "==============================================================================\n",
       "\n",
       "Notes:\n",
       "[1] Standard Errors assume that the covariance matrix of the errors is correctly specified.\n",
       "\"\"\""
      ]
     },
     "execution_count": 70,
     "metadata": {},
     "output_type": "execute_result"
    }
   ],
   "source": [
    "model.summary()"
   ]
  },
  {
   "cell_type": "code",
   "execution_count": null,
   "id": "a85c2e86-0e73-4212-8b6b-7018a46f4195",
   "metadata": {},
   "outputs": [],
   "source": []
  }
 ],
 "metadata": {
  "kernelspec": {
   "display_name": "Python 3 (ipykernel)",
   "language": "python",
   "name": "python3"
  },
  "language_info": {
   "codemirror_mode": {
    "name": "ipython",
    "version": 3
   },
   "file_extension": ".py",
   "mimetype": "text/x-python",
   "name": "python",
   "nbconvert_exporter": "python",
   "pygments_lexer": "ipython3",
   "version": "3.12.4"
  }
 },
 "nbformat": 4,
 "nbformat_minor": 5
}
