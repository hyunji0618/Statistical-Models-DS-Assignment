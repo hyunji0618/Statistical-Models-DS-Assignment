{
 "cells": [
  {
   "cell_type": "markdown",
   "id": "ccb69271-361a-4926-b3ff-4ae238eb3aa0",
   "metadata": {},
   "source": [
    "# Statistical Models for Data Science HW 3\n",
    "### Question 03: Multiple Linear Regression - Optimization"
   ]
  },
  {
   "cell_type": "code",
   "execution_count": 45,
   "id": "1ff3d956-80d7-4a2a-ab2f-80743ca06c28",
   "metadata": {},
   "outputs": [],
   "source": [
    "import numpy as np\n",
    "import pandas as pd\n",
    "\n",
    "np.random.seed(42)\n",
    "\n",
    "# Number of observations\n",
    "n = 100\n",
    "\n",
    "# independent variables\n",
    "x1 = np.random.normal(0, 1, n)\n",
    "x2 = np.random.normal(0, 1, n)\n",
    "\n",
    "# error term\n",
    "e = np.random.normal(0, 1, n)\n",
    "\n",
    "# dependent variable using the linear regression model\n",
    "y = 1 + 2 * x1 - 0.5 * x2 + e\n",
    "\n",
    "# dataframe\n",
    "df = pd.DataFrame({\n",
    "    'x1': x1,\n",
    "    'x2': x2,\n",
    "    'y': y\n",
    "})"
   ]
  },
  {
   "cell_type": "markdown",
   "id": "fb539164-50c9-486e-b754-d2cfd6a23395",
   "metadata": {},
   "source": [
    "#### 0.  Estimate the parameter of the model using statsmodels in Python"
   ]
  },
  {
   "cell_type": "code",
   "execution_count": 47,
   "id": "04d23c2d-3e74-4eae-ad90-4d49b1a564d1",
   "metadata": {},
   "outputs": [
    {
     "name": "stdout",
     "output_type": "stream",
     "text": [
      "                            OLS Regression Results                            \n",
      "==============================================================================\n",
      "Dep. Variable:                      y   R-squared:                       0.802\n",
      "Model:                            OLS   Adj. R-squared:                  0.798\n",
      "Method:                 Least Squares   F-statistic:                     196.8\n",
      "Date:                Tue, 22 Oct 2024   Prob (F-statistic):           7.27e-35\n",
      "Time:                        15:59:14   Log-Likelihood:                -147.62\n",
      "No. Observations:                 100   AIC:                             301.2\n",
      "Df Residuals:                      97   BIC:                             309.1\n",
      "Df Model:                           2                                         \n",
      "Covariance Type:            nonrobust                                         \n",
      "==============================================================================\n",
      "                 coef    std err          t      P>|t|      [0.025      0.975]\n",
      "------------------------------------------------------------------------------\n",
      "const          1.0886      0.108     10.058      0.000       0.874       1.303\n",
      "x1             2.2261      0.120     18.533      0.000       1.988       2.464\n",
      "x2            -0.5123      0.114     -4.479      0.000      -0.739      -0.285\n",
      "==============================================================================\n",
      "Omnibus:                        3.125   Durbin-Watson:                   2.220\n",
      "Prob(Omnibus):                  0.210   Jarque-Bera (JB):                3.080\n",
      "Skew:                           0.108   Prob(JB):                        0.214\n",
      "Kurtosis:                       3.832   Cond. No.                         1.23\n",
      "==============================================================================\n",
      "\n",
      "Notes:\n",
      "[1] Standard Errors assume that the covariance matrix of the errors is correctly specified.\n"
     ]
    }
   ],
   "source": [
    "import statsmodels.api as sm \n",
    "\n",
    "X = sm.add_constant(df[['x1', 'x2']])\n",
    "model = sm.OLS(df['y'], X).fit()\n",
    "print(model.summary())"
   ]
  },
  {
   "cell_type": "markdown",
   "id": "d610943b-2e4b-4dc4-9616-71b426001ae4",
   "metadata": {},
   "source": [
    "#### 1. Create a table that includes the observations for the dependent variable, the prediction, the intercept, each slope coefficient multiplied by their associated independent variable observations, and the residuals."
   ]
  },
  {
   "cell_type": "code",
   "execution_count": 52,
   "id": "62312eae-880d-40d6-b404-fca5c21e351a",
   "metadata": {},
   "outputs": [
    {
     "data": {
      "text/html": [
       "<div>\n",
       "<style scoped>\n",
       "    .dataframe tbody tr th:only-of-type {\n",
       "        vertical-align: middle;\n",
       "    }\n",
       "\n",
       "    .dataframe tbody tr th {\n",
       "        vertical-align: top;\n",
       "    }\n",
       "\n",
       "    .dataframe thead th {\n",
       "        text-align: right;\n",
       "    }\n",
       "</style>\n",
       "<table border=\"1\" class=\"dataframe\">\n",
       "  <thead>\n",
       "    <tr style=\"text-align: right;\">\n",
       "      <th></th>\n",
       "      <th>x1</th>\n",
       "      <th>x2</th>\n",
       "      <th>y</th>\n",
       "      <th>y_hat</th>\n",
       "      <th>b0</th>\n",
       "      <th>b1_x1</th>\n",
       "      <th>b2_x2</th>\n",
       "      <th>e_hat</th>\n",
       "    </tr>\n",
       "  </thead>\n",
       "  <tbody>\n",
       "    <tr>\n",
       "      <th>0</th>\n",
       "      <td>0.496714</td>\n",
       "      <td>-1.415371</td>\n",
       "      <td>3.058901</td>\n",
       "      <td>2.919440</td>\n",
       "      <td>1.088649</td>\n",
       "      <td>1.105730</td>\n",
       "      <td>0.725062</td>\n",
       "      <td>0.139461</td>\n",
       "    </tr>\n",
       "    <tr>\n",
       "      <th>1</th>\n",
       "      <td>-0.138264</td>\n",
       "      <td>-0.420645</td>\n",
       "      <td>1.494579</td>\n",
       "      <td>0.996347</td>\n",
       "      <td>1.088649</td>\n",
       "      <td>-0.307789</td>\n",
       "      <td>0.215487</td>\n",
       "      <td>0.498232</td>\n",
       "    </tr>\n",
       "    <tr>\n",
       "      <th>2</th>\n",
       "      <td>0.647689</td>\n",
       "      <td>-0.342715</td>\n",
       "      <td>3.549786</td>\n",
       "      <td>2.706026</td>\n",
       "      <td>1.088649</td>\n",
       "      <td>1.441813</td>\n",
       "      <td>0.175565</td>\n",
       "      <td>0.843760</td>\n",
       "    </tr>\n",
       "    <tr>\n",
       "      <th>3</th>\n",
       "      <td>1.523030</td>\n",
       "      <td>-0.802277</td>\n",
       "      <td>5.501000</td>\n",
       "      <td>4.890037</td>\n",
       "      <td>1.088649</td>\n",
       "      <td>3.390401</td>\n",
       "      <td>0.410988</td>\n",
       "      <td>0.610963</td>\n",
       "    </tr>\n",
       "    <tr>\n",
       "      <th>4</th>\n",
       "      <td>-0.234153</td>\n",
       "      <td>-0.161286</td>\n",
       "      <td>-0.765333</td>\n",
       "      <td>0.650025</td>\n",
       "      <td>1.088649</td>\n",
       "      <td>-0.521246</td>\n",
       "      <td>0.082623</td>\n",
       "      <td>-1.415359</td>\n",
       "    </tr>\n",
       "    <tr>\n",
       "      <th>...</th>\n",
       "      <td>...</td>\n",
       "      <td>...</td>\n",
       "      <td>...</td>\n",
       "      <td>...</td>\n",
       "      <td>...</td>\n",
       "      <td>...</td>\n",
       "      <td>...</td>\n",
       "      <td>...</td>\n",
       "    </tr>\n",
       "    <tr>\n",
       "      <th>95</th>\n",
       "      <td>-1.463515</td>\n",
       "      <td>0.385317</td>\n",
       "      <td>-2.812598</td>\n",
       "      <td>-2.366656</td>\n",
       "      <td>1.088649</td>\n",
       "      <td>-3.257915</td>\n",
       "      <td>-0.197389</td>\n",
       "      <td>-0.445943</td>\n",
       "    </tr>\n",
       "    <tr>\n",
       "      <th>96</th>\n",
       "      <td>0.296120</td>\n",
       "      <td>-0.883857</td>\n",
       "      <td>2.933769</td>\n",
       "      <td>2.200619</td>\n",
       "      <td>1.088649</td>\n",
       "      <td>0.659190</td>\n",
       "      <td>0.452780</td>\n",
       "      <td>0.733151</td>\n",
       "    </tr>\n",
       "    <tr>\n",
       "      <th>97</th>\n",
       "      <td>0.261055</td>\n",
       "      <td>0.153725</td>\n",
       "      <td>1.752548</td>\n",
       "      <td>1.591031</td>\n",
       "      <td>1.088649</td>\n",
       "      <td>0.581132</td>\n",
       "      <td>-0.078750</td>\n",
       "      <td>0.161516</td>\n",
       "    </tr>\n",
       "    <tr>\n",
       "      <th>98</th>\n",
       "      <td>0.005113</td>\n",
       "      <td>0.058209</td>\n",
       "      <td>1.793985</td>\n",
       "      <td>1.070213</td>\n",
       "      <td>1.088649</td>\n",
       "      <td>0.011383</td>\n",
       "      <td>-0.029819</td>\n",
       "      <td>0.723772</td>\n",
       "    </tr>\n",
       "    <tr>\n",
       "      <th>99</th>\n",
       "      <td>-0.234587</td>\n",
       "      <td>-1.142970</td>\n",
       "      <td>1.731940</td>\n",
       "      <td>1.151954</td>\n",
       "      <td>1.088649</td>\n",
       "      <td>-0.522212</td>\n",
       "      <td>0.585517</td>\n",
       "      <td>0.579986</td>\n",
       "    </tr>\n",
       "  </tbody>\n",
       "</table>\n",
       "<p>100 rows × 8 columns</p>\n",
       "</div>"
      ],
      "text/plain": [
       "          x1        x2         y     y_hat        b0     b1_x1     b2_x2  \\\n",
       "0   0.496714 -1.415371  3.058901  2.919440  1.088649  1.105730  0.725062   \n",
       "1  -0.138264 -0.420645  1.494579  0.996347  1.088649 -0.307789  0.215487   \n",
       "2   0.647689 -0.342715  3.549786  2.706026  1.088649  1.441813  0.175565   \n",
       "3   1.523030 -0.802277  5.501000  4.890037  1.088649  3.390401  0.410988   \n",
       "4  -0.234153 -0.161286 -0.765333  0.650025  1.088649 -0.521246  0.082623   \n",
       "..       ...       ...       ...       ...       ...       ...       ...   \n",
       "95 -1.463515  0.385317 -2.812598 -2.366656  1.088649 -3.257915 -0.197389   \n",
       "96  0.296120 -0.883857  2.933769  2.200619  1.088649  0.659190  0.452780   \n",
       "97  0.261055  0.153725  1.752548  1.591031  1.088649  0.581132 -0.078750   \n",
       "98  0.005113  0.058209  1.793985  1.070213  1.088649  0.011383 -0.029819   \n",
       "99 -0.234587 -1.142970  1.731940  1.151954  1.088649 -0.522212  0.585517   \n",
       "\n",
       "       e_hat  \n",
       "0   0.139461  \n",
       "1   0.498232  \n",
       "2   0.843760  \n",
       "3   0.610963  \n",
       "4  -1.415359  \n",
       "..       ...  \n",
       "95 -0.445943  \n",
       "96  0.733151  \n",
       "97  0.161516  \n",
       "98  0.723772  \n",
       "99  0.579986  \n",
       "\n",
       "[100 rows x 8 columns]"
      ]
     },
     "execution_count": 52,
     "metadata": {},
     "output_type": "execute_result"
    }
   ],
   "source": [
    "df['y_hat'] = model.predict(X)\n",
    "df['b0'] = model.params['const']\n",
    "df['b1_x1'] = model.params['x1'] * df['x1']\n",
    "df['b2_x2'] = model.params['x2'] * df['x2']\n",
    "df['e_hat'] = df['y'] - df['y_hat']\n",
    "df"
   ]
  },
  {
   "cell_type": "markdown",
   "id": "8da32c87-bae3-4673-9815-5e6f2ee8a92c",
   "metadata": {},
   "source": [
    "#### 2. Verify that the predictions plus the residuals sum to the dependent variable for each observation."
   ]
  },
  {
   "cell_type": "code",
   "execution_count": 56,
   "id": "5435ed26-bdf5-4ad1-8714-fc75e84832a8",
   "metadata": {},
   "outputs": [
    {
     "data": {
      "text/html": [
       "<div>\n",
       "<style scoped>\n",
       "    .dataframe tbody tr th:only-of-type {\n",
       "        vertical-align: middle;\n",
       "    }\n",
       "\n",
       "    .dataframe tbody tr th {\n",
       "        vertical-align: top;\n",
       "    }\n",
       "\n",
       "    .dataframe thead th {\n",
       "        text-align: right;\n",
       "    }\n",
       "</style>\n",
       "<table border=\"1\" class=\"dataframe\">\n",
       "  <thead>\n",
       "    <tr style=\"text-align: right;\">\n",
       "      <th></th>\n",
       "      <th>x1</th>\n",
       "      <th>x2</th>\n",
       "      <th>y</th>\n",
       "      <th>y_hat</th>\n",
       "      <th>b0</th>\n",
       "      <th>b1_x1</th>\n",
       "      <th>b2_x2</th>\n",
       "      <th>e_hat</th>\n",
       "      <th>y_hat + e_hat</th>\n",
       "    </tr>\n",
       "  </thead>\n",
       "  <tbody>\n",
       "    <tr>\n",
       "      <th>0</th>\n",
       "      <td>0.496714</td>\n",
       "      <td>-1.415371</td>\n",
       "      <td>3.058901</td>\n",
       "      <td>2.919440</td>\n",
       "      <td>1.088649</td>\n",
       "      <td>1.105730</td>\n",
       "      <td>0.725062</td>\n",
       "      <td>0.139461</td>\n",
       "      <td>3.058901</td>\n",
       "    </tr>\n",
       "    <tr>\n",
       "      <th>1</th>\n",
       "      <td>-0.138264</td>\n",
       "      <td>-0.420645</td>\n",
       "      <td>1.494579</td>\n",
       "      <td>0.996347</td>\n",
       "      <td>1.088649</td>\n",
       "      <td>-0.307789</td>\n",
       "      <td>0.215487</td>\n",
       "      <td>0.498232</td>\n",
       "      <td>1.494579</td>\n",
       "    </tr>\n",
       "    <tr>\n",
       "      <th>2</th>\n",
       "      <td>0.647689</td>\n",
       "      <td>-0.342715</td>\n",
       "      <td>3.549786</td>\n",
       "      <td>2.706026</td>\n",
       "      <td>1.088649</td>\n",
       "      <td>1.441813</td>\n",
       "      <td>0.175565</td>\n",
       "      <td>0.843760</td>\n",
       "      <td>3.549786</td>\n",
       "    </tr>\n",
       "    <tr>\n",
       "      <th>3</th>\n",
       "      <td>1.523030</td>\n",
       "      <td>-0.802277</td>\n",
       "      <td>5.501000</td>\n",
       "      <td>4.890037</td>\n",
       "      <td>1.088649</td>\n",
       "      <td>3.390401</td>\n",
       "      <td>0.410988</td>\n",
       "      <td>0.610963</td>\n",
       "      <td>5.501000</td>\n",
       "    </tr>\n",
       "    <tr>\n",
       "      <th>4</th>\n",
       "      <td>-0.234153</td>\n",
       "      <td>-0.161286</td>\n",
       "      <td>-0.765333</td>\n",
       "      <td>0.650025</td>\n",
       "      <td>1.088649</td>\n",
       "      <td>-0.521246</td>\n",
       "      <td>0.082623</td>\n",
       "      <td>-1.415359</td>\n",
       "      <td>-0.765333</td>\n",
       "    </tr>\n",
       "    <tr>\n",
       "      <th>...</th>\n",
       "      <td>...</td>\n",
       "      <td>...</td>\n",
       "      <td>...</td>\n",
       "      <td>...</td>\n",
       "      <td>...</td>\n",
       "      <td>...</td>\n",
       "      <td>...</td>\n",
       "      <td>...</td>\n",
       "      <td>...</td>\n",
       "    </tr>\n",
       "    <tr>\n",
       "      <th>95</th>\n",
       "      <td>-1.463515</td>\n",
       "      <td>0.385317</td>\n",
       "      <td>-2.812598</td>\n",
       "      <td>-2.366656</td>\n",
       "      <td>1.088649</td>\n",
       "      <td>-3.257915</td>\n",
       "      <td>-0.197389</td>\n",
       "      <td>-0.445943</td>\n",
       "      <td>-2.812598</td>\n",
       "    </tr>\n",
       "    <tr>\n",
       "      <th>96</th>\n",
       "      <td>0.296120</td>\n",
       "      <td>-0.883857</td>\n",
       "      <td>2.933769</td>\n",
       "      <td>2.200619</td>\n",
       "      <td>1.088649</td>\n",
       "      <td>0.659190</td>\n",
       "      <td>0.452780</td>\n",
       "      <td>0.733151</td>\n",
       "      <td>2.933769</td>\n",
       "    </tr>\n",
       "    <tr>\n",
       "      <th>97</th>\n",
       "      <td>0.261055</td>\n",
       "      <td>0.153725</td>\n",
       "      <td>1.752548</td>\n",
       "      <td>1.591031</td>\n",
       "      <td>1.088649</td>\n",
       "      <td>0.581132</td>\n",
       "      <td>-0.078750</td>\n",
       "      <td>0.161516</td>\n",
       "      <td>1.752548</td>\n",
       "    </tr>\n",
       "    <tr>\n",
       "      <th>98</th>\n",
       "      <td>0.005113</td>\n",
       "      <td>0.058209</td>\n",
       "      <td>1.793985</td>\n",
       "      <td>1.070213</td>\n",
       "      <td>1.088649</td>\n",
       "      <td>0.011383</td>\n",
       "      <td>-0.029819</td>\n",
       "      <td>0.723772</td>\n",
       "      <td>1.793985</td>\n",
       "    </tr>\n",
       "    <tr>\n",
       "      <th>99</th>\n",
       "      <td>-0.234587</td>\n",
       "      <td>-1.142970</td>\n",
       "      <td>1.731940</td>\n",
       "      <td>1.151954</td>\n",
       "      <td>1.088649</td>\n",
       "      <td>-0.522212</td>\n",
       "      <td>0.585517</td>\n",
       "      <td>0.579986</td>\n",
       "      <td>1.731940</td>\n",
       "    </tr>\n",
       "  </tbody>\n",
       "</table>\n",
       "<p>100 rows × 9 columns</p>\n",
       "</div>"
      ],
      "text/plain": [
       "          x1        x2         y     y_hat        b0     b1_x1     b2_x2  \\\n",
       "0   0.496714 -1.415371  3.058901  2.919440  1.088649  1.105730  0.725062   \n",
       "1  -0.138264 -0.420645  1.494579  0.996347  1.088649 -0.307789  0.215487   \n",
       "2   0.647689 -0.342715  3.549786  2.706026  1.088649  1.441813  0.175565   \n",
       "3   1.523030 -0.802277  5.501000  4.890037  1.088649  3.390401  0.410988   \n",
       "4  -0.234153 -0.161286 -0.765333  0.650025  1.088649 -0.521246  0.082623   \n",
       "..       ...       ...       ...       ...       ...       ...       ...   \n",
       "95 -1.463515  0.385317 -2.812598 -2.366656  1.088649 -3.257915 -0.197389   \n",
       "96  0.296120 -0.883857  2.933769  2.200619  1.088649  0.659190  0.452780   \n",
       "97  0.261055  0.153725  1.752548  1.591031  1.088649  0.581132 -0.078750   \n",
       "98  0.005113  0.058209  1.793985  1.070213  1.088649  0.011383 -0.029819   \n",
       "99 -0.234587 -1.142970  1.731940  1.151954  1.088649 -0.522212  0.585517   \n",
       "\n",
       "       e_hat  y_hat + e_hat  \n",
       "0   0.139461       3.058901  \n",
       "1   0.498232       1.494579  \n",
       "2   0.843760       3.549786  \n",
       "3   0.610963       5.501000  \n",
       "4  -1.415359      -0.765333  \n",
       "..       ...            ...  \n",
       "95 -0.445943      -2.812598  \n",
       "96  0.733151       2.933769  \n",
       "97  0.161516       1.752548  \n",
       "98  0.723772       1.793985  \n",
       "99  0.579986       1.731940  \n",
       "\n",
       "[100 rows x 9 columns]"
      ]
     },
     "execution_count": 56,
     "metadata": {},
     "output_type": "execute_result"
    }
   ],
   "source": [
    "df['y_hat + e_hat'] = df['y_hat'] + df['e_hat']\n",
    "df"
   ]
  },
  {
   "cell_type": "markdown",
   "id": "9a9a2fc4-e5c9-41e0-aa84-2e6b99ee8dee",
   "metadata": {},
   "source": [
    "#### 2. Verify that the sum of the residuals equal zero."
   ]
  },
  {
   "cell_type": "code",
   "execution_count": 112,
   "id": "08107ac6-5d00-4fc3-b484-8e52c4b3cc3b",
   "metadata": {},
   "outputs": [
    {
     "data": {
      "text/plain": [
       "-1.9539925233402755e-14"
      ]
     },
     "execution_count": 112,
     "metadata": {},
     "output_type": "execute_result"
    }
   ],
   "source": [
    "np.sum(df['e_hat'])"
   ]
  },
  {
   "cell_type": "code",
   "execution_count": 68,
   "id": "7f413a84-a2bf-4592-843d-df15b2a409e3",
   "metadata": {},
   "outputs": [
    {
     "data": {
      "text/plain": [
       "(84.60509247872987, 84.6050924787299)"
      ]
     },
     "execution_count": 68,
     "metadata": {},
     "output_type": "execute_result"
    }
   ],
   "source": [
    "np.sum(df['y']), np.sum(df['y_hat'])"
   ]
  },
  {
   "cell_type": "markdown",
   "id": "e4fd9aa4-6881-4623-8d2e-6ea70764e4fe",
   "metadata": {},
   "source": [
    "#### 3. Verify that the sample covariance of the residuals and the observation is zero for each independent variable."
   ]
  },
  {
   "cell_type": "code",
   "execution_count": 76,
   "id": "c3e52102-f591-4c1e-8286-489eef62d4cc",
   "metadata": {},
   "outputs": [
    {
     "data": {
      "text/plain": [
       "(-9.348077867343818e-16, 8.926193117986258e-16)"
      ]
     },
     "execution_count": 76,
     "metadata": {},
     "output_type": "execute_result"
    }
   ],
   "source": [
    "df['e_hat_x1'] = df['e_hat'] * df['x1']\n",
    "df['e_hat_x2'] = df['e_hat'] * df['x2']\n",
    "\n",
    "# Sample covariance: Mean of the observation covariance\n",
    "df['e_hat_x1'].mean(), df['e_hat_x2'].mean()"
   ]
  },
  {
   "cell_type": "markdown",
   "id": "bf36e2db-9d20-4ff2-b2eb-071e7908e596",
   "metadata": {},
   "source": [
    "#### 4. Verify that the average of the dependent variable observations equal the average of the predictions within the sample."
   ]
  },
  {
   "cell_type": "code",
   "execution_count": 115,
   "id": "1b46ea27-26e3-4bd0-9792-d0f17688e44c",
   "metadata": {},
   "outputs": [
    {
     "data": {
      "text/plain": [
       "(0.8460509247872987, 0.846050924787299)"
      ]
     },
     "execution_count": 115,
     "metadata": {},
     "output_type": "execute_result"
    }
   ],
   "source": [
    "df['y'].mean(), df['y_hat'].mean()"
   ]
  },
  {
   "cell_type": "markdown",
   "id": "e008bf89-0741-463e-8909-1c4e8306fe83",
   "metadata": {},
   "source": [
    "#### 5. Compute SSE, SST, SSR. Verify that SST = SSE + SSR."
   ]
  },
  {
   "cell_type": "code",
   "execution_count": 83,
   "id": "059e549d-c06c-465d-8e8d-6a4a0381088a",
   "metadata": {},
   "outputs": [
    {
     "data": {
      "text/plain": [
       "(112.13899436528182, 454.93265048917874, 567.07164485446, 51015.689929788736)"
      ]
     },
     "execution_count": 83,
     "metadata": {},
     "output_type": "execute_result"
    }
   ],
   "source": [
    "# SSE: Sum of Squares Error\n",
    "SSE = np.sum((df['e_hat']) **2)\n",
    "\n",
    "# SSR: Sum of Squares Regression\n",
    "SSR = np.sum((df['y_hat'] - np.mean(df['y'])) ** 2)\n",
    "\n",
    "# SST: Total Sum of Squares\n",
    "SST = np.sum((df['y'] - np.mean(df['y'])) ** 2)\n",
    "\n",
    "SSE, SSR, SST, SSE * SSR"
   ]
  },
  {
   "cell_type": "markdown",
   "id": "6c63103e-e869-4494-b3f0-a5f640d2b9fb",
   "metadata": {},
   "source": [
    "#### 6. Compute the $R^2$ manually. Verify that it matches the value from the model output."
   ]
  },
  {
   "cell_type": "code",
   "execution_count": 117,
   "id": "e851e694-0391-48da-aaae-c9f6072279cd",
   "metadata": {},
   "outputs": [
    {
     "data": {
      "text/plain": [
       "(0.8022489832055304, 0.8022489832055304)"
      ]
     },
     "execution_count": 117,
     "metadata": {},
     "output_type": "execute_result"
    }
   ],
   "source": [
    "R_squared = 1 - (SSE / SST)\n",
    "R_squared, model.rsquared"
   ]
  },
  {
   "cell_type": "markdown",
   "id": "683d10c7-1138-420e-af6b-09bc0f104e38",
   "metadata": {},
   "source": [
    "### Question 04: Gauss-Markov Assumptions / Theorem\n",
    "#### 0. In the context of a linear regression. What is an estimator?\n",
    "A\n",
    "#### 1. What is a linear estimator?\n",
    "C\n",
    "#### 2. What is an unbiased estimator?\n",
    "D\n",
    "#### 3. What is a best estimator?\n",
    "A\n",
    "#### 4. True or False. Under the Gauss-Markov assumptions 1-4, the OLS is an unbiased estimator.\n",
    "True\n",
    "#### 5. True or False. Under the Gauss-Markov assumptions 1-5, the OLS is an unbiased linear estimator with the lowest variance among all estimators.\n",
    "True"
   ]
  },
  {
   "cell_type": "markdown",
   "id": "fdd68a00-dd4f-4d38-a317-aab0317c46bb",
   "metadata": {},
   "source": [
    "### Question 05: Gauss-Markov Assumptions / Theorem\n",
    "#### 0. Which statement below is true?\n",
    "D"
   ]
  },
  {
   "cell_type": "code",
   "execution_count": null,
   "id": "c5ce3389-c915-4adf-9915-6003ee26bcbe",
   "metadata": {},
   "outputs": [],
   "source": []
  }
 ],
 "metadata": {
  "kernelspec": {
   "display_name": "Python 3 (ipykernel)",
   "language": "python",
   "name": "python3"
  },
  "language_info": {
   "codemirror_mode": {
    "name": "ipython",
    "version": 3
   },
   "file_extension": ".py",
   "mimetype": "text/x-python",
   "name": "python",
   "nbconvert_exporter": "python",
   "pygments_lexer": "ipython3",
   "version": "3.12.4"
  }
 },
 "nbformat": 4,
 "nbformat_minor": 5
}
