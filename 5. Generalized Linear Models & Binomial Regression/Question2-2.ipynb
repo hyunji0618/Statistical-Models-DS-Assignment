{
 "cells": [
  {
   "cell_type": "markdown",
   "id": "dee8a74c-a6ff-4163-9233-1fdeda6c35ef",
   "metadata": {},
   "source": [
    "# Q2. Graduate School Acceptance Analysis\n",
    "#### 0. Estimate a binomial model with intercept only using the logit link function. Interpret the intercept coefficient.\n",
    "Based on the model summary below, the intercept coefficient (−0.7653) is the log-odds of being accepted in a intercept-only model.\n",
    "\n",
    "The odds of acceptance are: $odds = e^{Intercept} = e^{−0.7653} ≈ 0.465$ (46.5%).\n",
    "\n",
    "The p-value (P < 0.05) indicates that the intercept is statistically significant, which means the baseline log-odds are significantly different from 0."
   ]
  },
  {
   "cell_type": "code",
   "execution_count": 149,
   "id": "17113880-0aa5-4bbe-b220-1c24804febd6",
   "metadata": {},
   "outputs": [
    {
     "data": {
      "text/html": [
       "<div>\n",
       "<style scoped>\n",
       "    .dataframe tbody tr th:only-of-type {\n",
       "        vertical-align: middle;\n",
       "    }\n",
       "\n",
       "    .dataframe tbody tr th {\n",
       "        vertical-align: top;\n",
       "    }\n",
       "\n",
       "    .dataframe thead th {\n",
       "        text-align: right;\n",
       "    }\n",
       "</style>\n",
       "<table border=\"1\" class=\"dataframe\">\n",
       "  <thead>\n",
       "    <tr style=\"text-align: right;\">\n",
       "      <th></th>\n",
       "      <th>accepted</th>\n",
       "      <th>gre</th>\n",
       "      <th>gpa</th>\n",
       "      <th>ranking</th>\n",
       "    </tr>\n",
       "  </thead>\n",
       "  <tbody>\n",
       "    <tr>\n",
       "      <th>0</th>\n",
       "      <td>0</td>\n",
       "      <td>380</td>\n",
       "      <td>3.61</td>\n",
       "      <td>RANK03</td>\n",
       "    </tr>\n",
       "    <tr>\n",
       "      <th>1</th>\n",
       "      <td>1</td>\n",
       "      <td>660</td>\n",
       "      <td>3.67</td>\n",
       "      <td>RANK03</td>\n",
       "    </tr>\n",
       "    <tr>\n",
       "      <th>2</th>\n",
       "      <td>1</td>\n",
       "      <td>800</td>\n",
       "      <td>4.00</td>\n",
       "      <td>RANK01</td>\n",
       "    </tr>\n",
       "    <tr>\n",
       "      <th>3</th>\n",
       "      <td>1</td>\n",
       "      <td>640</td>\n",
       "      <td>3.19</td>\n",
       "      <td>RANK04</td>\n",
       "    </tr>\n",
       "    <tr>\n",
       "      <th>4</th>\n",
       "      <td>0</td>\n",
       "      <td>520</td>\n",
       "      <td>2.93</td>\n",
       "      <td>RANK04</td>\n",
       "    </tr>\n",
       "  </tbody>\n",
       "</table>\n",
       "</div>"
      ],
      "text/plain": [
       "   accepted  gre   gpa ranking\n",
       "0         0  380  3.61  RANK03\n",
       "1         1  660  3.67  RANK03\n",
       "2         1  800  4.00  RANK01\n",
       "3         1  640  3.19  RANK04\n",
       "4         0  520  2.93  RANK04"
      ]
     },
     "execution_count": 149,
     "metadata": {},
     "output_type": "execute_result"
    }
   ],
   "source": [
    "import pandas as pd\n",
    "import numpy as np\n",
    "\n",
    "df = pd.read_csv(\"grad school acceptance.csv\")\n",
    "df.head()"
   ]
  },
  {
   "cell_type": "code",
   "execution_count": 151,
   "id": "67856b04-8aaa-4f2e-9cee-8cd7dfa0cf86",
   "metadata": {},
   "outputs": [
    {
     "name": "stdout",
     "output_type": "stream",
     "text": [
      "                 Generalized Linear Model Regression Results                  \n",
      "==============================================================================\n",
      "Dep. Variable:               accepted   No. Observations:                  400\n",
      "Model:                            GLM   Df Residuals:                      399\n",
      "Model Family:                Binomial   Df Model:                            0\n",
      "Link Function:                  logit   Scale:                          1.0000\n",
      "Method:                          IRLS   Log-Likelihood:                -249.99\n",
      "Date:                Mon, 02 Dec 2024   Deviance:                       499.98\n",
      "Time:                        23:08:56   Pearson chi2:                     400.\n",
      "No. Iterations:                     4   Pseudo R-squ. (CS):              0.000\n",
      "Covariance Type:            nonrobust                                         \n",
      "==============================================================================\n",
      "                 coef    std err          z      P>|z|      [0.025      0.975]\n",
      "------------------------------------------------------------------------------\n",
      "const         -0.7653      0.107     -7.125      0.000      -0.976      -0.555\n",
      "x1                  0          0        nan        nan           0           0\n",
      "==============================================================================\n"
     ]
    },
    {
     "name": "stderr",
     "output_type": "stream",
     "text": [
      "/opt/anaconda3/lib/python3.12/site-packages/statsmodels/genmod/families/links.py:13: FutureWarning: The logit link alias is deprecated. Use Logit instead. The logit link alias will be removed after the 0.15.0 release.\n",
      "  warnings.warn(\n"
     ]
    }
   ],
   "source": [
    "import statsmodels.api as sm\n",
    "\n",
    "intercept_model = sm.GLM(\n",
    "    df['accepted'],\n",
    "    sm.add_constant(np.zeros(len(df))), \n",
    "    family=sm.families.Binomial(link=sm.families.links.logit())\n",
    ").fit()\n",
    "\n",
    "print(intercept_model.summary())"
   ]
  },
  {
   "cell_type": "markdown",
   "id": "b027b009-54aa-4dd1-a8cd-9379dda59bb6",
   "metadata": {},
   "source": [
    "#### 1. Compute the average acceptance rate from the model results."
   ]
  },
  {
   "cell_type": "code",
   "execution_count": 154,
   "id": "e71e54fb-a051-42eb-b3f4-13e3c9e519eb",
   "metadata": {},
   "outputs": [
    {
     "name": "stderr",
     "output_type": "stream",
     "text": [
      "/var/folders/zr/hq5f8g3s0jq6yt_pl2ppbgmc0000gn/T/ipykernel_41828/1005068595.py:1: FutureWarning: Series.__getitem__ treating keys as positions is deprecated. In a future version, integer keys will always be treated as labels (consistent with DataFrame behavior). To access a value by position, use `ser.iloc[pos]`\n",
      "  intercept_value = intercept_model.params[0]\n"
     ]
    },
    {
     "data": {
      "text/plain": [
       "0.31750000000011214"
      ]
     },
     "execution_count": 154,
     "metadata": {},
     "output_type": "execute_result"
    }
   ],
   "source": [
    "intercept_value = intercept_model.params[0]\n",
    "\n",
    "avg_acceptance_rate = 1 / (1 + np.exp(-intercept_value))\n",
    "avg_acceptance_rate"
   ]
  },
  {
   "cell_type": "code",
   "execution_count": 156,
   "id": "b7990560-d3c1-4190-95ce-bd31ee4ba8ed",
   "metadata": {},
   "outputs": [
    {
     "data": {
      "text/plain": [
       "0.3175"
      ]
     },
     "execution_count": 156,
     "metadata": {},
     "output_type": "execute_result"
    }
   ],
   "source": [
    "# See if it matches the manual calculation of the average acceptance probability (number of accepted / total rows of the data) \n",
    "sum(df['accepted']) / len(df)"
   ]
  },
  {
   "cell_type": "markdown",
   "id": "39392056-b86b-4eae-8620-78987784812c",
   "metadata": {},
   "source": [
    "#### 2. Estimate a model with intercept and GPA scores using the logit link function. What is the impact of an unit change in GPA scores on the odds?\n",
    "Based on the result below, the odds of acceptance increase by a factor of $e^{1.0511} ≈ 2.861$ for every one-unit increase in GPA scores.\n",
    "This could mean that a higher GPA significantly increases the likelihood of acceptance."
   ]
  },
  {
   "cell_type": "code",
   "execution_count": 159,
   "id": "08999018-1c53-48b7-9d14-1a46758a7eab",
   "metadata": {},
   "outputs": [
    {
     "name": "stdout",
     "output_type": "stream",
     "text": [
      "                 Generalized Linear Model Regression Results                  \n",
      "==============================================================================\n",
      "Dep. Variable:               accepted   No. Observations:                  400\n",
      "Model:                            GLM   Df Residuals:                      398\n",
      "Model Family:                Binomial   Df Model:                            1\n",
      "Link Function:                  logit   Scale:                          1.0000\n",
      "Method:                          IRLS   Log-Likelihood:                -243.48\n",
      "Date:                Mon, 02 Dec 2024   Deviance:                       486.97\n",
      "Time:                        23:08:59   Pearson chi2:                     401.\n",
      "No. Iterations:                     4   Pseudo R-squ. (CS):            0.03200\n",
      "Covariance Type:            nonrobust                                         \n",
      "==============================================================================\n",
      "                 coef    std err          z      P>|z|      [0.025      0.975]\n",
      "------------------------------------------------------------------------------\n",
      "const         -4.3576      1.035     -4.209      0.000      -6.387      -2.328\n",
      "gpa            1.0511      0.299      3.517      0.000       0.465       1.637\n",
      "==============================================================================\n"
     ]
    },
    {
     "name": "stderr",
     "output_type": "stream",
     "text": [
      "/opt/anaconda3/lib/python3.12/site-packages/statsmodels/genmod/families/links.py:13: FutureWarning: The logit link alias is deprecated. Use Logit instead. The logit link alias will be removed after the 0.15.0 release.\n",
      "  warnings.warn(\n"
     ]
    }
   ],
   "source": [
    "X_GPA = df['gpa']\n",
    "\n",
    "GPA_model = sm.GLM(\n",
    "    df['accepted'],\n",
    "    sm.add_constant(X_GPA), \n",
    "    family=sm.families.Binomial(link=sm.families.links.logit())\n",
    ").fit()\n",
    "\n",
    "print(GPA_model.summary())"
   ]
  },
  {
   "cell_type": "markdown",
   "id": "fdc3898b-1067-4824-af37-1b22fe9a8ec5",
   "metadata": {},
   "source": [
    "#### 3. Estimate a model with intercept, and GPA scores using the logit link function. What is the impact of an unit change in GPA scores on the probability of acceptance for an individual with an average GPA score?"
   ]
  },
  {
   "cell_type": "code",
   "execution_count": 168,
   "id": "d4342aaf-5f5e-461a-9cc6-ba96bb916122",
   "metadata": {},
   "outputs": [
    {
     "name": "stdout",
     "output_type": "stream",
     "text": [
      "Probability Of Acceptance For An Individual With An Average GPA: 31.12174333764286%\n",
      "Probability Of Acceptance For A Unit Increase In GPA: 56.38187320802687%\n",
      "Change In Probability For A Unit Increase In GPA: 25.260129870384006%\n"
     ]
    }
   ],
   "source": [
    "average_gpa = df['gpa'].mean()\n",
    "\n",
    "# Log-odds and probability for average GPA\n",
    "log_odds_avg_gpa = GPA_model.params['const'] + GPA_model.params['gpa'] * average_gpa\n",
    "probability_avg_gpa = 1 / (1 + np.exp(-log_odds_avg_gpa)) * 100\n",
    "\n",
    "# Change in probability after one-unit increase in GPA\n",
    "log_odds_unit_increase = GPA_model.params['const'] + GPA_model.params['gpa'] * (average_gpa + 1)\n",
    "probability_unit_increase = 1 / (1 + np.exp(-log_odds_unit_increase)) * 100\n",
    "change_in_probability = probability_unit_increase - probability_avg_gpa\n",
    "\n",
    "print(f\"Probability Of Acceptance For An Individual With An Average GPA: {probability_avg_gpa:}%\")\n",
    "print(f\"Probability Of Acceptance For A Unit Increase In GPA: {probability_unit_increase:}%\")\n",
    "print(f\"Change In Probability For A Unit Increase In GPA: {change_in_probability:}%\")"
   ]
  },
  {
   "cell_type": "markdown",
   "id": "cca59b52-0207-423b-a83b-37f29bc33678",
   "metadata": {},
   "source": [
    "#### 4. Estimate the binomial model with logit link function and all available covariates. Interpret the results, including coefficients, z-values, p-values, and residual deviance."
   ]
  },
  {
   "cell_type": "code",
   "execution_count": 170,
   "id": "b5ae285d-57e4-40f6-9c2f-2f27bcc60cb6",
   "metadata": {},
   "outputs": [
    {
     "data": {
      "text/html": [
       "<div>\n",
       "<style scoped>\n",
       "    .dataframe tbody tr th:only-of-type {\n",
       "        vertical-align: middle;\n",
       "    }\n",
       "\n",
       "    .dataframe tbody tr th {\n",
       "        vertical-align: top;\n",
       "    }\n",
       "\n",
       "    .dataframe thead th {\n",
       "        text-align: right;\n",
       "    }\n",
       "</style>\n",
       "<table border=\"1\" class=\"dataframe\">\n",
       "  <thead>\n",
       "    <tr style=\"text-align: right;\">\n",
       "      <th></th>\n",
       "      <th>accepted</th>\n",
       "      <th>gre</th>\n",
       "      <th>gpa</th>\n",
       "      <th>ranking_RANK02</th>\n",
       "      <th>ranking_RANK03</th>\n",
       "      <th>ranking_RANK04</th>\n",
       "    </tr>\n",
       "  </thead>\n",
       "  <tbody>\n",
       "    <tr>\n",
       "      <th>0</th>\n",
       "      <td>0</td>\n",
       "      <td>380</td>\n",
       "      <td>3.61</td>\n",
       "      <td>0</td>\n",
       "      <td>1</td>\n",
       "      <td>0</td>\n",
       "    </tr>\n",
       "    <tr>\n",
       "      <th>1</th>\n",
       "      <td>1</td>\n",
       "      <td>660</td>\n",
       "      <td>3.67</td>\n",
       "      <td>0</td>\n",
       "      <td>1</td>\n",
       "      <td>0</td>\n",
       "    </tr>\n",
       "    <tr>\n",
       "      <th>2</th>\n",
       "      <td>1</td>\n",
       "      <td>800</td>\n",
       "      <td>4.00</td>\n",
       "      <td>0</td>\n",
       "      <td>0</td>\n",
       "      <td>0</td>\n",
       "    </tr>\n",
       "    <tr>\n",
       "      <th>3</th>\n",
       "      <td>1</td>\n",
       "      <td>640</td>\n",
       "      <td>3.19</td>\n",
       "      <td>0</td>\n",
       "      <td>0</td>\n",
       "      <td>1</td>\n",
       "    </tr>\n",
       "    <tr>\n",
       "      <th>4</th>\n",
       "      <td>0</td>\n",
       "      <td>520</td>\n",
       "      <td>2.93</td>\n",
       "      <td>0</td>\n",
       "      <td>0</td>\n",
       "      <td>1</td>\n",
       "    </tr>\n",
       "  </tbody>\n",
       "</table>\n",
       "</div>"
      ],
      "text/plain": [
       "   accepted  gre   gpa  ranking_RANK02  ranking_RANK03  ranking_RANK04\n",
       "0         0  380  3.61               0               1               0\n",
       "1         1  660  3.67               0               1               0\n",
       "2         1  800  4.00               0               0               0\n",
       "3         1  640  3.19               0               0               1\n",
       "4         0  520  2.93               0               0               1"
      ]
     },
     "execution_count": 170,
     "metadata": {},
     "output_type": "execute_result"
    }
   ],
   "source": [
    "# Create dummy variables for ranking\n",
    "df = pd.get_dummies(df, columns=['ranking'], drop_first=True)\n",
    "dummy_columns = df.select_dtypes(include='bool').columns\n",
    "df[dummy_columns] = df[dummy_columns].astype(int)\n",
    "df.head()"
   ]
  },
  {
   "cell_type": "code",
   "execution_count": 172,
   "id": "3a2775df-0a09-460a-800e-cfd4a3db6e22",
   "metadata": {},
   "outputs": [
    {
     "name": "stdout",
     "output_type": "stream",
     "text": [
      "                 Generalized Linear Model Regression Results                  \n",
      "==============================================================================\n",
      "Dep. Variable:               accepted   No. Observations:                  400\n",
      "Model:                            GLM   Df Residuals:                      394\n",
      "Model Family:                Binomial   Df Model:                            5\n",
      "Link Function:                  logit   Scale:                          1.0000\n",
      "Method:                          IRLS   Log-Likelihood:                -229.26\n",
      "Date:                Mon, 02 Dec 2024   Deviance:                       458.52\n",
      "Time:                        23:09:37   Pearson chi2:                     397.\n",
      "No. Iterations:                     4   Pseudo R-squ. (CS):            0.09846\n",
      "Covariance Type:            nonrobust                                         \n",
      "==================================================================================\n",
      "                     coef    std err          z      P>|z|      [0.025      0.975]\n",
      "----------------------------------------------------------------------------------\n",
      "const             -3.9900      1.140     -3.500      0.000      -6.224      -1.756\n",
      "gre                0.0023      0.001      2.070      0.038       0.000       0.004\n",
      "gpa                0.8040      0.332      2.423      0.015       0.154       1.454\n",
      "ranking_RANK02    -0.6754      0.316     -2.134      0.033      -1.296      -0.055\n",
      "ranking_RANK03    -1.3402      0.345     -3.881      0.000      -2.017      -0.663\n",
      "ranking_RANK04    -1.5515      0.418     -3.713      0.000      -2.370      -0.733\n",
      "==================================================================================\n"
     ]
    },
    {
     "name": "stderr",
     "output_type": "stream",
     "text": [
      "/opt/anaconda3/lib/python3.12/site-packages/statsmodels/genmod/families/links.py:13: FutureWarning: The logit link alias is deprecated. Use Logit instead. The logit link alias will be removed after the 0.15.0 release.\n",
      "  warnings.warn(\n"
     ]
    }
   ],
   "source": [
    "# Fir a regression model with all covariates\n",
    "X_full = df.drop(columns=['accepted'])\n",
    "\n",
    "full_model = sm.GLM(\n",
    "    df['accepted'],\n",
    "    sm.add_constant(X_full), \n",
    "    family=sm.families.Binomial(link=sm.families.links.logit())\n",
    ").fit()\n",
    "\n",
    "print(full_model.summary())"
   ]
  },
  {
   "cell_type": "code",
   "execution_count": 174,
   "id": "02c41d8e-bf99-4613-ac23-456d97e18bd5",
   "metadata": {},
   "outputs": [
    {
     "name": "stdout",
     "output_type": "stream",
     "text": [
      "deviance of GPA Model: 486.96762254232175\n",
      "deviance of full Model: 458.51749247589896\n",
      "P-value of GPA Model: 0.0014977845010662725\n",
      "P-value of Full Model: 0.013653471581259666\n"
     ]
    }
   ],
   "source": [
    "from scipy.stats import chi2\n",
    "\n",
    "# The deviance and residual df of GPA_model and full_model\n",
    "deviance_GPA = GPA_model.deviance\n",
    "deviance_full = full_model.deviance\n",
    "\n",
    "df_resid_GPA = GPA_model.df_resid\n",
    "df_resid_full = full_model.df_resid\n",
    "\n",
    "# Compute the p-value\n",
    "p_value_GPA = chi2.sf(deviance_GPA, df_resid_GPA)\n",
    "p_value_full = chi2.sf(deviance_full, df_resid_full)\n",
    "\n",
    "print(f'deviance of GPA Model: {deviance_GPA}')\n",
    "print(f'deviance of full Model: {deviance_full}')\n",
    "print(f\"P-value of GPA Model: {p_value_GPA}\")\n",
    "print(f\"P-value of Full Model: {p_value_full}\")"
   ]
  },
  {
   "cell_type": "markdown",
   "id": "9affac51-6355-4553-a463-ae443fdc5997",
   "metadata": {},
   "source": [
    "##### **Results Interpretation:**\n",
    "\n",
    "##### **1. Model with GPA Only**\n",
    "- **Intercept Coefficient = -4.3576**\n",
    "- **GPA Coefficient = 1.0511**: A one-unit increase in GPA is associated with an increase in the odds of acceptance by $e^{1.0511} ≈ 2.861$.\n",
    "- **Z-value & P-value**:\n",
    "  - GPA has a significant effect on acceptance (\\( z = 3.517, p < 0.001 \\)).\n",
    "  - The intercept is also significant (\\( p < 0.001 \\)).\n",
    "- **Residual Deviance**: 486.97\n",
    "- **Goodness of Fit**:\n",
    "  - Log-Likelihood: -243.48\n",
    "  - Pseudo R-squared: 0.03200\n",
    "\n",
    "##### **2. Model with GRE, GPA, and Rankings**\n",
    "- **Intercept Coefficient = -3.9900**\n",
    "- **GRE Coefficient = 0.0023**: A one-unit increase in GRE is associated with an increase in the odds of acceptance by $e^{0.0023} ≈ 1.0023$. This is statistically significant (\\( z = 2.070, p = 0.038 \\)).\n",
    "- **GPA Coefficient = 0.8040**: A one-unit increase in GPA increases the odds of acceptance by $e^{0.8040} ≈ 2.234$. This is also significant (\\( z = 2.423, p = 0.015 \\)).\n",
    "- **Ranking Coefficients**: Ranking coefficients are all negative values, which means that it is associated with a decrease in the log-odds of acceptance.\n",
    "  - **RANK02 = -0.6754**: Significant (\\( z = -2.134, p = 0.033 \\)).\n",
    "  - **RANK03 = -1.3402**: Highly significant (\\( z = -3.881, p < 0.001 \\)).\n",
    "  - **RANK04 = -1.5515**: Highly significant (\\( z = -3.713, p < 0.001 \\)).\n",
    "- **Residual Deviance**: 458.52\n",
    "- **P-value**: 0.0137\n",
    "- **Goodness of Fit**:\n",
    "  - Log-Likelihood: -229.26\n",
    "  - Pseudo R-squared: 0.09846\n",
    "\n",
    "---\n",
    "##### **Conclusion:**\n",
    "  - The full model has a lower residual deviance (458.52) compared to the GPA-only model (486.97), which indicates that the full model has a better fit.\n",
    "  - Rankings, particularly RANK03 and RANK04 (higher rankings), have the most substantial effects on the log-odds of acceptance with strongly negative coefficients.\n",
    "  - The GPA Model has a smaller p-value (0.0015) compared to the Full Model (0.0137). This does not mean that the GPA model is better, but rather that GPA alone is a strong predictor of acceptance.\n",
    "---"
   ]
  },
  {
   "cell_type": "markdown",
   "id": "fc678097-0609-428a-ba6b-b19c2ca8b8b4",
   "metadata": {},
   "source": [
    "#### 5. An alternative to the logit link function is the probit link function. $$ F^{-1}(p_i) = x_i^T \\beta $$ where $F$ is cumulative normal distribution. Estimate the binomial probit model using the probit link function. Interpret the results."
   ]
  },
  {
   "cell_type": "code",
   "execution_count": 178,
   "id": "3c1a0498-3716-4b06-9c6a-8d09cfc48930",
   "metadata": {},
   "outputs": [
    {
     "name": "stdout",
     "output_type": "stream",
     "text": [
      "                 Generalized Linear Model Regression Results                  \n",
      "==============================================================================\n",
      "Dep. Variable:               accepted   No. Observations:                  400\n",
      "Model:                            GLM   Df Residuals:                      394\n",
      "Model Family:                Binomial   Df Model:                            5\n",
      "Link Function:                 probit   Scale:                          1.0000\n",
      "Method:                          IRLS   Log-Likelihood:                -229.21\n",
      "Date:                Mon, 02 Dec 2024   Deviance:                       458.41\n",
      "Time:                        23:09:40   Pearson chi2:                     398.\n",
      "No. Iterations:                     5   Pseudo R-squ. (CS):            0.09869\n",
      "Covariance Type:            nonrobust                                         \n",
      "==================================================================================\n",
      "                     coef    std err          z      P>|z|      [0.025      0.975]\n",
      "----------------------------------------------------------------------------------\n",
      "const             -2.3868      0.674     -3.542      0.000      -3.708      -1.066\n",
      "gre                0.0014      0.001      2.116      0.034       0.000       0.003\n",
      "gpa                0.4777      0.197      2.423      0.015       0.091       0.864\n",
      "ranking_RANK02    -0.4154      0.195     -2.131      0.033      -0.798      -0.033\n",
      "ranking_RANK03    -0.8121      0.208     -3.898      0.000      -1.221      -0.404\n",
      "ranking_RANK04    -0.9359      0.245     -3.816      0.000      -1.417      -0.455\n",
      "==================================================================================\n"
     ]
    },
    {
     "name": "stderr",
     "output_type": "stream",
     "text": [
      "/opt/anaconda3/lib/python3.12/site-packages/statsmodels/genmod/families/links.py:13: FutureWarning: The probit link alias is deprecated. Use Probit instead. The probit link alias will be removed after the 0.15.0 release.\n",
      "  warnings.warn(\n"
     ]
    }
   ],
   "source": [
    "X_probit = df.drop(columns=['accepted'])\n",
    "\n",
    "probit_model = sm.GLM(\n",
    "    df['accepted'],\n",
    "    sm.add_constant(X_full), \n",
    "    family=sm.families.Binomial(link=sm.families.links.probit())\n",
    ").fit()\n",
    "\n",
    "print(probit_model.summary())"
   ]
  },
  {
   "cell_type": "code",
   "execution_count": null,
   "id": "5afbba71-9148-4b6c-8bd0-af82e243068c",
   "metadata": {},
   "outputs": [],
   "source": []
  }
 ],
 "metadata": {
  "kernelspec": {
   "display_name": "Python 3 (ipykernel)",
   "language": "python",
   "name": "python3"
  },
  "language_info": {
   "codemirror_mode": {
    "name": "ipython",
    "version": 3
   },
   "file_extension": ".py",
   "mimetype": "text/x-python",
   "name": "python",
   "nbconvert_exporter": "python",
   "pygments_lexer": "ipython3",
   "version": "3.12.4"
  }
 },
 "nbformat": 4,
 "nbformat_minor": 5
}
