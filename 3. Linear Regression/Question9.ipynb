{
 "cells": [
  {
   "cell_type": "markdown",
   "id": "c862b4a0-83e8-4db9-98d5-68d03aacc0b9",
   "metadata": {},
   "source": [
    "## Question 9: Forward/backward stepwise for linear regression\n",
    "#### 1. Apply the forward/backward stepwise selection using MASS library in R. Print out the final model.\n",
    "R code: "
   ]
  },
  {
   "cell_type": "raw",
   "id": "34d476df-d5c2-4e4d-970d-c5e634675980",
   "metadata": {},
   "source": [
    "# Load the MASS package\n",
    "library(MASS)\n",
    "\n",
    "# Sample data\n",
    "set.seed(0)\n",
    "yX <- read.csv(\"synthetic-polynomial.csv\")\n",
    "X <- yX[,c(\"x001\",\"x002\",\"x003\",\"x004\",\"x005\",\"x006\",\"x007\",\"x008\",\"x009\")]\n",
    "y <- yX[,c(\"y\")]\n",
    "\n",
    "# Fit the initial model (intercept only)\n",
    "initial_model <- lm(y ~ 1, data = X)\n",
    "\n",
    "# Fit the full model\n",
    "full_model <- lm(y ~ ., data = X)\n",
    "\n",
    "# Perform stepwise selection based on BIC\n",
    "stepwise_model_bic <- step(full_model, direction = \"both\", k = log(nrow(X)))\n",
    "\n",
    "# Summary of the selected model\n",
    "summary(stepwise_model_bic)"
   ]
  },
  {
   "cell_type": "markdown",
   "id": "a0468a6d-bcf7-48e1-9217-3f716c6c8e5d",
   "metadata": {},
   "source": [
    "Result:"
   ]
  },
  {
   "cell_type": "raw",
   "id": "1b305497-cabc-4017-aa8a-ced2b666c81b",
   "metadata": {
    "jp-MarkdownHeadingCollapsed": true
   },
   "source": [
    "> summary(stepwise_model_bic)\n",
    "\n",
    "Call:\n",
    "lm(formula = y ~ x001 + x002, data = X)\n",
    "\n",
    "Residuals:\n",
    "    Min      1Q  Median      3Q     Max \n",
    "-2.9582 -0.6845  0.0049  0.6027  3.2262 \n",
    "\n",
    "Coefficients:\n",
    "            Estimate Std. Error t value Pr(>|t|)    \n",
    "(Intercept)  1.94447    0.04588   42.38   <2e-16 ***\n",
    "x001         0.98211    0.01750   56.11   <2e-16 ***\n",
    "x002         0.52767    0.01127   46.83   <2e-16 ***\n",
    "---\n",
    "Signif. codes:  0 ‘***’ 0.001 ‘**’ 0.01 ‘*’ 0.05 ‘.’ 0.1 ‘ ’ 1\n",
    "\n",
    "Residual standard error: 0.9643 on 997 degrees of freedom\n",
    "Multiple R-squared:  0.848,\tAdjusted R-squared:  0.8477 \n",
    "F-statistic:  2780 on 2 and 997 DF,  p-value: < 2.2e-16"
   ]
  },
  {
   "cell_type": "markdown",
   "id": "721b6d0e-eed6-4bda-96af-cfdb796ac687",
   "metadata": {},
   "source": [
    "#### 2. Construct a stepwise procedure using 'sklearn.linear_model.LinearRegression' and 'mlxtend.feature_selection.SequentialFeatureSelector'. Find the best model based on BIC criteria. Print the list of feature for the best model."
   ]
  },
  {
   "cell_type": "code",
   "execution_count": 116,
   "id": "92962d3f-0c2b-4aef-a951-0df3773b15f1",
   "metadata": {},
   "outputs": [
    {
     "name": "stdout",
     "output_type": "stream",
     "text": [
      "Features for the best model:  ['x001', 'x002', 'x008']\n"
     ]
    }
   ],
   "source": [
    "import pandas as pd\n",
    "from sklearn.linear_model import LinearRegression\n",
    "from mlxtend.feature_selection import SequentialFeatureSelector\n",
    "from sklearn.metrics import mean_squared_error\n",
    "\n",
    "# Load data\n",
    "yX = pd.read_csv(\"synthetic-polynomial.csv\")\n",
    "y, X = yX[[\"y\"]], yX[[\"x001\", \"x002\", \"x003\", \"x004\", \"x005\", \"x006\", \"x007\", \"x008\", \"x009\"]]\n",
    "\n",
    "# Fit the Linear Regression model\n",
    "lr = LinearRegression()\n",
    "\n",
    "# Stepwise selection\n",
    "sfs = SequentialFeatureSelector(lr, k_features=\"best\", forward=True, scoring='neg_mean_squared_error', cv=5)\n",
    "sfs = sfs.fit(X, y)\n",
    "selected_features = list(sfs.k_feature_names_)\n",
    "\n",
    "# Print selected features\n",
    "print(\"Features for the best model: \", selected_features)"
   ]
  },
  {
   "cell_type": "markdown",
   "id": "b7a76973-b2a2-4bca-83a2-631fad40215a",
   "metadata": {},
   "source": [
    "#### 3. Estimate and print the best modeling using statsmodels."
   ]
  },
  {
   "cell_type": "code",
   "execution_count": 119,
   "id": "13a3c08a-9569-4b1b-901a-3c07976aa976",
   "metadata": {},
   "outputs": [
    {
     "name": "stdout",
     "output_type": "stream",
     "text": [
      "                            OLS Regression Results                            \n",
      "==============================================================================\n",
      "Dep. Variable:                      y   R-squared:                       0.849\n",
      "Model:                            OLS   Adj. R-squared:                  0.849\n",
      "Method:                 Least Squares   F-statistic:                     1866.\n",
      "Date:                Wed, 06 Nov 2024   Prob (F-statistic):               0.00\n",
      "Time:                        17:42:46   Log-Likelihood:                -1377.7\n",
      "No. Observations:                1000   AIC:                             2763.\n",
      "Df Residuals:                     996   BIC:                             2783.\n",
      "Df Model:                           3                                         \n",
      "Covariance Type:            nonrobust                                         \n",
      "==============================================================================\n",
      "                 coef    std err          t      P>|t|      [0.025      0.975]\n",
      "------------------------------------------------------------------------------\n",
      "const          2.0049      0.051     39.040      0.000       1.904       2.106\n",
      "x001           0.9806      0.017     56.151      0.000       0.946       1.015\n",
      "x002           0.4822      0.021     23.128      0.000       0.441       0.523\n",
      "x008           0.0001   4.02e-05      2.590      0.010    2.52e-05       0.000\n",
      "==============================================================================\n",
      "Omnibus:                        1.689   Durbin-Watson:                   2.048\n",
      "Prob(Omnibus):                  0.430   Jarque-Bera (JB):                1.739\n",
      "Skew:                           0.098   Prob(JB):                        0.419\n",
      "Kurtosis:                       2.940   Cond. No.                     2.82e+03\n",
      "==============================================================================\n",
      "\n",
      "Notes:\n",
      "[1] Standard Errors assume that the covariance matrix of the errors is correctly specified.\n",
      "[2] The condition number is large, 2.82e+03. This might indicate that there are\n",
      "strong multicollinearity or other numerical problems.\n"
     ]
    }
   ],
   "source": [
    "import statsmodels.api as sm\n",
    "\n",
    "# Fit the model using selected features\n",
    "X_selected = X[selected_features]\n",
    "X_selected = sm.add_constant(X_selected)  # Add intercept\n",
    "\n",
    "model = sm.OLS(y, X_selected).fit()\n",
    "print(model.summary())"
   ]
  }
 ],
 "metadata": {
  "kernelspec": {
   "display_name": "Python 3 (ipykernel)",
   "language": "python",
   "name": "python3"
  },
  "language_info": {
   "codemirror_mode": {
    "name": "ipython",
    "version": 3
   },
   "file_extension": ".py",
   "mimetype": "text/x-python",
   "name": "python",
   "nbconvert_exporter": "python",
   "pygments_lexer": "ipython3",
   "version": "3.12.4"
  }
 },
 "nbformat": 4,
 "nbformat_minor": 5
}
